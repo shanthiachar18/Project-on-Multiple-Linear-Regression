{
 "cells": [
  {
   "cell_type": "code",
   "execution_count": 43,
   "id": "fff785df",
   "metadata": {},
   "outputs": [],
   "source": [
    "# importing the libraries and  packages\n",
    "import pandas as pd\n",
    "import numpy as np\n",
    "import math as m\n",
    "import seaborn as sns\n",
    "sns.set_style(\"darkgrid\")\n",
    "import matplotlib.pyplot as plt\n",
    "from sklearn.preprocessing import LabelEncoder\n",
    "from sklearn.linear_model import LinearRegression,Ridge\n",
    "from sklearn.model_selection import train_test_split\n",
    "from sklearn.metrics import r2_score,mean_squared_error"
   ]
  },
  {
   "cell_type": "code",
   "execution_count": 2,
   "id": "1d273ab8",
   "metadata": {},
   "outputs": [
    {
     "data": {
      "text/html": [
       "<div>\n",
       "<style scoped>\n",
       "    .dataframe tbody tr th:only-of-type {\n",
       "        vertical-align: middle;\n",
       "    }\n",
       "\n",
       "    .dataframe tbody tr th {\n",
       "        vertical-align: top;\n",
       "    }\n",
       "\n",
       "    .dataframe thead th {\n",
       "        text-align: right;\n",
       "    }\n",
       "</style>\n",
       "<table border=\"1\" class=\"dataframe\">\n",
       "  <thead>\n",
       "    <tr style=\"text-align: right;\">\n",
       "      <th></th>\n",
       "      <th>R&amp;D Spend</th>\n",
       "      <th>Administration</th>\n",
       "      <th>Marketing Spend</th>\n",
       "      <th>State</th>\n",
       "      <th>Profit</th>\n",
       "    </tr>\n",
       "  </thead>\n",
       "  <tbody>\n",
       "    <tr>\n",
       "      <th>0</th>\n",
       "      <td>165349.2</td>\n",
       "      <td>136897.80</td>\n",
       "      <td>471784.10</td>\n",
       "      <td>New York</td>\n",
       "      <td>192261.83</td>\n",
       "    </tr>\n",
       "    <tr>\n",
       "      <th>1</th>\n",
       "      <td>162597.7</td>\n",
       "      <td>151377.59</td>\n",
       "      <td>443898.53</td>\n",
       "      <td>California</td>\n",
       "      <td>191792.06</td>\n",
       "    </tr>\n",
       "  </tbody>\n",
       "</table>\n",
       "</div>"
      ],
      "text/plain": [
       "   R&D Spend  Administration  Marketing Spend       State     Profit\n",
       "0   165349.2       136897.80        471784.10    New York  192261.83\n",
       "1   162597.7       151377.59        443898.53  California  191792.06"
      ]
     },
     "execution_count": 2,
     "metadata": {},
     "output_type": "execute_result"
    }
   ],
   "source": [
    "# Loading the dataset\n",
    "data = pd.read_csv(\"50_Startups.csv\")\n",
    "data.head(2)"
   ]
  },
  {
   "cell_type": "code",
   "execution_count": 4,
   "id": "dca9d9a9",
   "metadata": {},
   "outputs": [
    {
     "data": {
      "text/html": [
       "<div>\n",
       "<style scoped>\n",
       "    .dataframe tbody tr th:only-of-type {\n",
       "        vertical-align: middle;\n",
       "    }\n",
       "\n",
       "    .dataframe tbody tr th {\n",
       "        vertical-align: top;\n",
       "    }\n",
       "\n",
       "    .dataframe thead th {\n",
       "        text-align: right;\n",
       "    }\n",
       "</style>\n",
       "<table border=\"1\" class=\"dataframe\">\n",
       "  <thead>\n",
       "    <tr style=\"text-align: right;\">\n",
       "      <th></th>\n",
       "      <th>R&amp;D</th>\n",
       "      <th>administration</th>\n",
       "      <th>marketing</th>\n",
       "      <th>state</th>\n",
       "      <th>profit</th>\n",
       "    </tr>\n",
       "  </thead>\n",
       "  <tbody>\n",
       "    <tr>\n",
       "      <th>0</th>\n",
       "      <td>165349.20</td>\n",
       "      <td>136897.80</td>\n",
       "      <td>471784.10</td>\n",
       "      <td>New York</td>\n",
       "      <td>192261.83</td>\n",
       "    </tr>\n",
       "    <tr>\n",
       "      <th>1</th>\n",
       "      <td>162597.70</td>\n",
       "      <td>151377.59</td>\n",
       "      <td>443898.53</td>\n",
       "      <td>California</td>\n",
       "      <td>191792.06</td>\n",
       "    </tr>\n",
       "    <tr>\n",
       "      <th>2</th>\n",
       "      <td>153441.51</td>\n",
       "      <td>101145.55</td>\n",
       "      <td>407934.54</td>\n",
       "      <td>Florida</td>\n",
       "      <td>191050.39</td>\n",
       "    </tr>\n",
       "    <tr>\n",
       "      <th>3</th>\n",
       "      <td>144372.41</td>\n",
       "      <td>118671.85</td>\n",
       "      <td>383199.62</td>\n",
       "      <td>New York</td>\n",
       "      <td>182901.99</td>\n",
       "    </tr>\n",
       "    <tr>\n",
       "      <th>4</th>\n",
       "      <td>142107.34</td>\n",
       "      <td>91391.77</td>\n",
       "      <td>366168.42</td>\n",
       "      <td>Florida</td>\n",
       "      <td>166187.94</td>\n",
       "    </tr>\n",
       "  </tbody>\n",
       "</table>\n",
       "</div>"
      ],
      "text/plain": [
       "         R&D  administration  marketing       state     profit\n",
       "0  165349.20       136897.80  471784.10    New York  192261.83\n",
       "1  162597.70       151377.59  443898.53  California  191792.06\n",
       "2  153441.51       101145.55  407934.54     Florida  191050.39\n",
       "3  144372.41       118671.85  383199.62    New York  182901.99\n",
       "4  142107.34        91391.77  366168.42     Florida  166187.94"
      ]
     },
     "execution_count": 4,
     "metadata": {},
     "output_type": "execute_result"
    }
   ],
   "source": [
    "# renaming the columns\n",
    "data=data.rename({ \"R&D Spend\":'R&D',\"Marketing Spend\":'marketing',\"Administration\":\"administration\",\"State\":\"state\",\"Profit\":\"profit\"},axis=1)\n",
    "data.head(5)"
   ]
  },
  {
   "cell_type": "code",
   "execution_count": 5,
   "id": "ae8f162c",
   "metadata": {},
   "outputs": [
    {
     "data": {
      "text/plain": [
       "R&D               0\n",
       "administration    0\n",
       "marketing         0\n",
       "state             0\n",
       "profit            0\n",
       "dtype: int64"
      ]
     },
     "execution_count": 5,
     "metadata": {},
     "output_type": "execute_result"
    }
   ],
   "source": [
    "# checking the missing values\n",
    "data.isnull().sum()"
   ]
  },
  {
   "cell_type": "code",
   "execution_count": 6,
   "id": "dae49594",
   "metadata": {},
   "outputs": [
    {
     "name": "stdout",
     "output_type": "stream",
     "text": [
      "Index(['R&D', 'administration', 'marketing', 'state', 'profit'], dtype='object')\n",
      "Data types---\n",
      "==========================\n",
      "R&D               float64\n",
      "administration    float64\n",
      "marketing         float64\n",
      "state              object\n",
      "profit            float64\n",
      "dtype: object\n",
      "==========================\n",
      "Info---\n",
      "<class 'pandas.core.frame.DataFrame'>\n",
      "RangeIndex: 50 entries, 0 to 49\n",
      "Data columns (total 5 columns):\n",
      " #   Column          Non-Null Count  Dtype  \n",
      "---  ------          --------------  -----  \n",
      " 0   R&D             50 non-null     float64\n",
      " 1   administration  50 non-null     float64\n",
      " 2   marketing       50 non-null     float64\n",
      " 3   state           50 non-null     object \n",
      " 4   profit          50 non-null     float64\n",
      "dtypes: float64(4), object(1)\n",
      "memory usage: 2.1+ KB\n",
      "None\n",
      "==========================\n"
     ]
    }
   ],
   "source": [
    "# printing basic info about the data\n",
    "print(data.columns)\n",
    "print(\"Data types---\")\n",
    "print(\"==========================\")\n",
    "print(data.dtypes)\n",
    "print(\"==========================\")\n",
    "print(\"Info---\")\n",
    "print(data.info())\n",
    "print(\"==========================\")"
   ]
  },
  {
   "cell_type": "code",
   "execution_count": 7,
   "id": "69443c56",
   "metadata": {},
   "outputs": [
    {
     "name": "stdout",
     "output_type": "stream",
     "text": [
      "Average spend on R&D:\n",
      "73721.61559999999\n",
      "==========================\n",
      "Average spend on administration:\n",
      "121344.63959999995\n",
      "==========================\n",
      "Average spend on marketing:\n",
      "211025.09780000005\n",
      "==========================\n",
      "Average profit earned:\n",
      "112012.63920000002\n",
      "==========================\n"
     ]
    }
   ],
   "source": [
    "print(\"Average spend on R&D:\")\n",
    "print(data[\"R&D\"].mean())\n",
    "print(\"==========================\")\n",
    "print(\"Average spend on administration:\")\n",
    "print(data[\"administration\"].mean())\n",
    "print(\"==========================\")\n",
    "print(\"Average spend on marketing:\")\n",
    "print(data[\"marketing\"].mean())\n",
    "print(\"==========================\")\n",
    "print(\"Average profit earned:\")\n",
    "print(data[\"profit\"].mean())\n",
    "print(\"==========================\")"
   ]
  },
  {
   "cell_type": "code",
   "execution_count": 8,
   "id": "6243ae06",
   "metadata": {},
   "outputs": [],
   "source": [
    "lb= LabelEncoder()\n",
    "data[\"state\"]=lb.fit_transform(data[\"state\"])"
   ]
  },
  {
   "cell_type": "code",
   "execution_count": 9,
   "id": "533bccdf",
   "metadata": {},
   "outputs": [
    {
     "name": "stdout",
     "output_type": "stream",
     "text": [
      "         R&D  administration  marketing  state     profit\n",
      "0  165349.20       136897.80  471784.10      2  192261.83\n",
      "1  162597.70       151377.59  443898.53      0  191792.06\n",
      "2  153441.51       101145.55  407934.54      1  191050.39\n",
      "3  144372.41       118671.85  383199.62      2  182901.99\n",
      "4  142107.34        91391.77  366168.42      1  166187.94\n",
      "R&D               float64\n",
      "administration    float64\n",
      "marketing         float64\n",
      "state               int32\n",
      "profit            float64\n",
      "dtype: object\n"
     ]
    }
   ],
   "source": [
    "print(data.head())\n",
    "print(data.dtypes)"
   ]
  },
  {
   "cell_type": "markdown",
   "id": "8fc1770c",
   "metadata": {},
   "source": [
    "## Exploratory Data Analysis"
   ]
  },
  {
   "cell_type": "code",
   "execution_count": 10,
   "id": "2a770a00",
   "metadata": {},
   "outputs": [
    {
     "data": {
      "text/plain": [
       "<AxesSubplot:>"
      ]
     },
     "execution_count": 10,
     "metadata": {},
     "output_type": "execute_result"
    },
    {
     "data": {
      "image/png": "[encoded data removed]",
      "text/plain": [
       "<Figure size 432x288 with 1 Axes>"
      ]
     },
     "metadata": {},
     "output_type": "display_data"
    }
   ],
   "source": [
    "# checking the outliers\n",
    "sns.boxplot(data=data.loc[:, ['R&D', 'administration','marketing']],palette=\"tab10\")"
   ]
  },
  {
   "cell_type": "code",
   "execution_count": 11,
   "id": "d27d2a49",
   "metadata": {},
   "outputs": [
    {
     "data": {
      "text/plain": [
       "<matplotlib.legend.Legend at 0x1d3417d7040>"
      ]
     },
     "execution_count": 11,
     "metadata": {},
     "output_type": "execute_result"
    },
    {
     "data": {
      "image/png": "[encoded data removed]",
      "text/plain": [
       "<Figure size 432x288 with 1 Axes>"
      ]
     },
     "metadata": {},
     "output_type": "display_data"
    }
   ],
   "source": [
    "## statewise profit\n",
    "ax=sns.barplot(x=data[\"state\"],y=data[\"profit\"],data=data,palette=\"hot\")\n",
    "plt.title(\"State-wise Profit\")\n",
    "ax.legend( bbox_to_anchor=(1,1),labels=[\"California\",\"Florida\",\"New York\"])"
   ]
  },
  {
   "cell_type": "code",
   "execution_count": 12,
   "id": "8bf088ba",
   "metadata": {},
   "outputs": [
    {
     "data": {
      "text/plain": [
       "Text(0.5, 1.0, 'Statewise profit percentages')"
      ]
     },
     "execution_count": 12,
     "metadata": {},
     "output_type": "execute_result"
    },
    {
     "data": {
      "image/png": "[encoded data removed]",
      "text/plain": [
       "<Figure size 432x288 with 1 Axes>"
      ]
     },
     "metadata": {},
     "output_type": "display_data"
    }
   ],
   "source": [
    "ax=data.groupby([\"state\"])[\"profit\"].sum().plot(kind=\"pie\",colors=['orange','yellow','violet'],autopct='%.2f%%')\n",
    "ax.legend( bbox_to_anchor=(1,1),labels=[\"California\",\"Florida\",\"New York\"])\n",
    "plt.title(\"Statewise profit percentages\")"
   ]
  },
  {
   "cell_type": "code",
   "execution_count": 13,
   "id": "d1416c0b",
   "metadata": {},
   "outputs": [
    {
     "data": {
      "text/plain": [
       "Text(0.5, 1.0, 'R&D Spend VS Profit')"
      ]
     },
     "execution_count": 13,
     "metadata": {},
     "output_type": "execute_result"
    },
    {
     "data": {
      "image/png": "[encoded data removed]",
      "text/plain": [
       "<Figure size 432x288 with 1 Axes>"
      ]
     },
     "metadata": {},
     "output_type": "display_data"
    }
   ],
   "source": [
    "sns.set_style(\"whitegrid\")\n",
    "sns.lineplot(x=\"R&D\",y=\"profit\",data=data,hue=\"state\",palette='tab10')\n",
    "plt.title(\"R&D Spend VS Profit\")"
   ]
  },
  {
   "cell_type": "code",
   "execution_count": 14,
   "id": "3dc02e1c",
   "metadata": {},
   "outputs": [
    {
     "data": {
      "text/plain": [
       "Text(0.5, 1.0, 'Administration Spend VS Profit')"
      ]
     },
     "execution_count": 14,
     "metadata": {},
     "output_type": "execute_result"
    },
    {
     "data": {
      "image/png": "[encoded data removed]",
      "text/plain": [
       "<Figure size 432x288 with 1 Axes>"
      ]
     },
     "metadata": {},
     "output_type": "display_data"
    }
   ],
   "source": [
    "sns.set_style(\"whitegrid\")\n",
    "sns.lineplot(x=\"administration\",y=\"profit\",data=data,hue=\"state\",palette= 'tab10')\n",
    "plt.title(\"Administration Spend VS Profit\")"
   ]
  },
  {
   "cell_type": "code",
   "execution_count": 15,
   "id": "2fa55509",
   "metadata": {},
   "outputs": [
    {
     "data": {
      "text/plain": [
       "Text(0.5, 1.0, 'Marketing Spend VS Profit')"
      ]
     },
     "execution_count": 15,
     "metadata": {},
     "output_type": "execute_result"
    },
    {
     "data": {
      "image/png": "[encoded data removed]",
      "text/plain": [
       "<Figure size 432x288 with 1 Axes>"
      ]
     },
     "metadata": {},
     "output_type": "display_data"
    }
   ],
   "source": [
    "sns.set_style(\"whitegrid\")\n",
    "sns.lineplot(x=\"marketing\",y=\"profit\",data=data,hue=\"state\",palette=\"tab10\")\n",
    "plt.title(\"Marketing Spend VS Profit\")"
   ]
  },
  {
   "cell_type": "code",
   "execution_count": 16,
   "id": "f5d4ea23",
   "metadata": {},
   "outputs": [
    {
     "data": {
      "text/plain": [
       "<AxesSubplot:>"
      ]
     },
     "execution_count": 16,
     "metadata": {},
     "output_type": "execute_result"
    },
    {
     "data": {
      "image/png": "[encoded data removed]",
      "text/plain": [
       "<Figure size 432x288 with 2 Axes>"
      ]
     },
     "metadata": {},
     "output_type": "display_data"
    }
   ],
   "source": [
    "sns.heatmap(data[[\"R&D\",\"administration\",\"marketing\",\"profit\"]].corr(),annot=True,cmap=\"RdBu\")"
   ]
  },
  {
   "cell_type": "markdown",
   "id": "7977591d",
   "metadata": {},
   "source": [
    "## Linear Regression"
   ]
  },
  {
   "cell_type": "markdown",
   "id": "17b74f3e",
   "metadata": {},
   "source": [
    "### Prediction model for profit of 50 startups data"
   ]
  },
  {
   "cell_type": "code",
   "execution_count": 17,
   "id": "96e1a1fe",
   "metadata": {},
   "outputs": [
    {
     "name": "stdout",
     "output_type": "stream",
     "text": [
      "         R&D  administration  marketing     profit\n",
      "0  165349.20       136897.80  471784.10  192261.83\n",
      "1  162597.70       151377.59  443898.53  191792.06\n",
      "2  153441.51       101145.55  407934.54  191050.39\n",
      "3  144372.41       118671.85  383199.62  182901.99\n",
      "4  142107.34        91391.77  366168.42  166187.94\n"
     ]
    }
   ],
   "source": [
    "# multiple linear regression\n",
    "df=data[[\"R&D\",\"administration\",\"marketing\",\"profit\"]]\n",
    "print(df.head())"
   ]
  },
  {
   "cell_type": "code",
   "execution_count": 18,
   "id": "ef4039ff",
   "metadata": {},
   "outputs": [
    {
     "data": {
      "text/plain": [
       "(50, 4)"
      ]
     },
     "execution_count": 18,
     "metadata": {},
     "output_type": "execute_result"
    }
   ],
   "source": [
    "df.shape"
   ]
  },
  {
   "cell_type": "code",
   "execution_count": 19,
   "id": "e0e492d6",
   "metadata": {},
   "outputs": [
    {
     "data": {
      "text/html": [
       "<div>\n",
       "<style scoped>\n",
       "    .dataframe tbody tr th:only-of-type {\n",
       "        vertical-align: middle;\n",
       "    }\n",
       "\n",
       "    .dataframe tbody tr th {\n",
       "        vertical-align: top;\n",
       "    }\n",
       "\n",
       "    .dataframe thead th {\n",
       "        text-align: right;\n",
       "    }\n",
       "</style>\n",
       "<table border=\"1\" class=\"dataframe\">\n",
       "  <thead>\n",
       "    <tr style=\"text-align: right;\">\n",
       "      <th></th>\n",
       "      <th>R&amp;D</th>\n",
       "      <th>administration</th>\n",
       "      <th>marketing</th>\n",
       "      <th>profit</th>\n",
       "    </tr>\n",
       "  </thead>\n",
       "  <tbody>\n",
       "    <tr>\n",
       "      <th>9</th>\n",
       "      <td>123334.88</td>\n",
       "      <td>108679.17</td>\n",
       "      <td>304981.62</td>\n",
       "      <td>149759.96</td>\n",
       "    </tr>\n",
       "    <tr>\n",
       "      <th>12</th>\n",
       "      <td>93863.75</td>\n",
       "      <td>127320.38</td>\n",
       "      <td>249839.44</td>\n",
       "      <td>141585.52</td>\n",
       "    </tr>\n",
       "    <tr>\n",
       "      <th>46</th>\n",
       "      <td>1315.46</td>\n",
       "      <td>115816.21</td>\n",
       "      <td>297114.46</td>\n",
       "      <td>49490.75</td>\n",
       "    </tr>\n",
       "    <tr>\n",
       "      <th>49</th>\n",
       "      <td>0.00</td>\n",
       "      <td>116983.80</td>\n",
       "      <td>45173.06</td>\n",
       "      <td>14681.40</td>\n",
       "    </tr>\n",
       "    <tr>\n",
       "      <th>38</th>\n",
       "      <td>20229.59</td>\n",
       "      <td>65947.93</td>\n",
       "      <td>185265.10</td>\n",
       "      <td>81229.06</td>\n",
       "    </tr>\n",
       "  </tbody>\n",
       "</table>\n",
       "</div>"
      ],
      "text/plain": [
       "          R&D  administration  marketing     profit\n",
       "9   123334.88       108679.17  304981.62  149759.96\n",
       "12   93863.75       127320.38  249839.44  141585.52\n",
       "46    1315.46       115816.21  297114.46   49490.75\n",
       "49       0.00       116983.80   45173.06   14681.40\n",
       "38   20229.59        65947.93  185265.10   81229.06"
      ]
     },
     "execution_count": 19,
     "metadata": {},
     "output_type": "execute_result"
    }
   ],
   "source": [
    "# train test split\n",
    "training,testing=train_test_split(df,test_size=0.2)\n",
    "training.head()"
   ]
  },
  {
   "cell_type": "code",
   "execution_count": 20,
   "id": "45304fce",
   "metadata": {},
   "outputs": [
    {
     "data": {
      "text/html": [
       "<div>\n",
       "<style scoped>\n",
       "    .dataframe tbody tr th:only-of-type {\n",
       "        vertical-align: middle;\n",
       "    }\n",
       "\n",
       "    .dataframe tbody tr th {\n",
       "        vertical-align: top;\n",
       "    }\n",
       "\n",
       "    .dataframe thead th {\n",
       "        text-align: right;\n",
       "    }\n",
       "</style>\n",
       "<table border=\"1\" class=\"dataframe\">\n",
       "  <thead>\n",
       "    <tr style=\"text-align: right;\">\n",
       "      <th></th>\n",
       "      <th>R&amp;D</th>\n",
       "      <th>administration</th>\n",
       "      <th>marketing</th>\n",
       "      <th>profit</th>\n",
       "    </tr>\n",
       "  </thead>\n",
       "  <tbody>\n",
       "    <tr>\n",
       "      <th>21</th>\n",
       "      <td>78389.47</td>\n",
       "      <td>153773.43</td>\n",
       "      <td>299737.29</td>\n",
       "      <td>111313.02</td>\n",
       "    </tr>\n",
       "    <tr>\n",
       "      <th>6</th>\n",
       "      <td>134615.46</td>\n",
       "      <td>147198.87</td>\n",
       "      <td>127716.82</td>\n",
       "      <td>156122.51</td>\n",
       "    </tr>\n",
       "    <tr>\n",
       "      <th>11</th>\n",
       "      <td>100671.96</td>\n",
       "      <td>91790.61</td>\n",
       "      <td>249744.55</td>\n",
       "      <td>144259.40</td>\n",
       "    </tr>\n",
       "    <tr>\n",
       "      <th>32</th>\n",
       "      <td>63408.86</td>\n",
       "      <td>129219.61</td>\n",
       "      <td>46085.25</td>\n",
       "      <td>97427.84</td>\n",
       "    </tr>\n",
       "    <tr>\n",
       "      <th>35</th>\n",
       "      <td>46014.02</td>\n",
       "      <td>85047.44</td>\n",
       "      <td>205517.64</td>\n",
       "      <td>96479.51</td>\n",
       "    </tr>\n",
       "  </tbody>\n",
       "</table>\n",
       "</div>"
      ],
      "text/plain": [
       "          R&D  administration  marketing     profit\n",
       "21   78389.47       153773.43  299737.29  111313.02\n",
       "6   134615.46       147198.87  127716.82  156122.51\n",
       "11  100671.96        91790.61  249744.55  144259.40\n",
       "32   63408.86       129219.61   46085.25   97427.84\n",
       "35   46014.02        85047.44  205517.64   96479.51"
      ]
     },
     "execution_count": 20,
     "metadata": {},
     "output_type": "execute_result"
    }
   ],
   "source": [
    "testing.head()"
   ]
  },
  {
   "cell_type": "code",
   "execution_count": 21,
   "id": "4f53612c",
   "metadata": {},
   "outputs": [
    {
     "data": {
      "text/plain": [
       "((40, 4), (10, 4))"
      ]
     },
     "execution_count": 21,
     "metadata": {},
     "output_type": "execute_result"
    }
   ],
   "source": [
    "training.shape,testing.shape"
   ]
  },
  {
   "cell_type": "code",
   "execution_count": 51,
   "id": "5f7399c2",
   "metadata": {},
   "outputs": [],
   "source": [
    "# defining\n",
    "X_train=training[[\"R&D\",\"administration\",\"marketing\"]]\n",
    "y_train=training[\"profit\"]\n",
    "X_test=testing[[\"R&D\",\"administration\",\"marketing\"]]\n",
    "y_test=testing[\"profit\"]"
   ]
  },
  {
   "cell_type": "code",
   "execution_count": 23,
   "id": "23ef3925",
   "metadata": {},
   "outputs": [
    {
     "name": "stdout",
     "output_type": "stream",
     "text": [
      "LinearRegression()\n"
     ]
    }
   ],
   "source": [
    "model=LinearRegression()\n",
    "print(model)"
   ]
  },
  {
   "cell_type": "code",
   "execution_count": 24,
   "id": "df050664",
   "metadata": {},
   "outputs": [
    {
     "name": "stdout",
     "output_type": "stream",
     "text": [
      "Model training is completed\n",
      "LinearRegression()\n"
     ]
    }
   ],
   "source": [
    "train_model=model.fit(X_train,y_train)\n",
    "print(\"Model training is completed\")\n",
    "print(train_model)"
   ]
  },
  {
   "cell_type": "code",
   "execution_count": 25,
   "id": "b3568992",
   "metadata": {},
   "outputs": [
    {
     "name": "stdout",
     "output_type": "stream",
     "text": [
      "[0.81409869 0.01491992 0.0269828 ]\n",
      "44935.46033920918\n"
     ]
    }
   ],
   "source": [
    "print(model.coef_)\n",
    "print(model.intercept_)"
   ]
  },
  {
   "cell_type": "code",
   "execution_count": 42,
   "id": "ed684f6a",
   "metadata": {},
   "outputs": [
    {
     "data": {
      "text/plain": [
       "0.9541238817717693"
      ]
     },
     "execution_count": 42,
     "metadata": {},
     "output_type": "execute_result"
    }
   ],
   "source": [
    "train_model.score(X_train,y_train)"
   ]
  },
  {
   "cell_type": "code",
   "execution_count": 27,
   "id": "b93908c6",
   "metadata": {},
   "outputs": [
    {
     "name": "stdout",
     "output_type": "stream",
     "text": [
      "Profit earned with R&D spend of 76253.86,administration spend of 113867.3 and marketing spend of 298664.47 is 117230.37202595237 \n"
     ]
    }
   ],
   "source": [
    "RD =76253.86\n",
    "administration=113867.30\n",
    "marketing=298664.47\n",
    "y =0.80733789*RD -0.02881059*administration+ 0.02881124*marketing + 50343.43195926117\n",
    "print(\"Profit earned with R&D spend of {},administration spend of {} and marketing spend of {} is {} \".format(RD,administration,marketing,y))\n"
   ]
  },
  {
   "cell_type": "code",
   "execution_count": 28,
   "id": "f4395009",
   "metadata": {},
   "outputs": [
    {
     "data": {
      "text/plain": [
       "<AxesSubplot:xlabel='R&D', ylabel='profit'>"
      ]
     },
     "execution_count": 28,
     "metadata": {},
     "output_type": "execute_result"
    },
    {
     "data": {
      "image/png": "[encoded data removed]",
      "text/plain": [
       "<Figure size 432x288 with 1 Axes>"
      ]
     },
     "metadata": {},
     "output_type": "display_data"
    }
   ],
   "source": [
    "sns.regplot(x=\"R&D\",y=\"profit\",data=training)"
   ]
  },
  {
   "cell_type": "code",
   "execution_count": 29,
   "id": "7255d25d",
   "metadata": {},
   "outputs": [
    {
     "data": {
      "text/plain": [
       "<AxesSubplot:xlabel='administration', ylabel='profit'>"
      ]
     },
     "execution_count": 29,
     "metadata": {},
     "output_type": "execute_result"
    },
    {
     "data": {
      "image/png": "[encoded data removed]",
      "text/plain": [
       "<Figure size 432x288 with 1 Axes>"
      ]
     },
     "metadata": {},
     "output_type": "display_data"
    }
   ],
   "source": [
    "sns.regplot(x=\"administration\",y=\"profit\",data=training)"
   ]
  },
  {
   "cell_type": "code",
   "execution_count": 30,
   "id": "ed828329",
   "metadata": {},
   "outputs": [
    {
     "data": {
      "text/plain": [
       "<AxesSubplot:xlabel='marketing', ylabel='profit'>"
      ]
     },
     "execution_count": 30,
     "metadata": {},
     "output_type": "execute_result"
    },
    {
     "data": {
      "image/png": "[encoded data removed]",
      "text/plain": [
       "<Figure size 432x288 with 1 Axes>"
      ]
     },
     "metadata": {},
     "output_type": "display_data"
    }
   ],
   "source": [
    "sns.regplot(x=\"marketing\",y=\"profit\",data=training)"
   ]
  },
  {
   "cell_type": "code",
   "execution_count": 31,
   "id": "64be27ba",
   "metadata": {},
   "outputs": [
    {
     "data": {
      "text/html": [
       "<div>\n",
       "<style scoped>\n",
       "    .dataframe tbody tr th:only-of-type {\n",
       "        vertical-align: middle;\n",
       "    }\n",
       "\n",
       "    .dataframe tbody tr th {\n",
       "        vertical-align: top;\n",
       "    }\n",
       "\n",
       "    .dataframe thead th {\n",
       "        text-align: right;\n",
       "    }\n",
       "</style>\n",
       "<table border=\"1\" class=\"dataframe\">\n",
       "  <thead>\n",
       "    <tr style=\"text-align: right;\">\n",
       "      <th></th>\n",
       "      <th>R&amp;D</th>\n",
       "      <th>administration</th>\n",
       "      <th>marketing</th>\n",
       "    </tr>\n",
       "  </thead>\n",
       "  <tbody>\n",
       "    <tr>\n",
       "      <th>21</th>\n",
       "      <td>78389.47</td>\n",
       "      <td>153773.43</td>\n",
       "      <td>299737.29</td>\n",
       "    </tr>\n",
       "    <tr>\n",
       "      <th>6</th>\n",
       "      <td>134615.46</td>\n",
       "      <td>147198.87</td>\n",
       "      <td>127716.82</td>\n",
       "    </tr>\n",
       "    <tr>\n",
       "      <th>11</th>\n",
       "      <td>100671.96</td>\n",
       "      <td>91790.61</td>\n",
       "      <td>249744.55</td>\n",
       "    </tr>\n",
       "    <tr>\n",
       "      <th>32</th>\n",
       "      <td>63408.86</td>\n",
       "      <td>129219.61</td>\n",
       "      <td>46085.25</td>\n",
       "    </tr>\n",
       "    <tr>\n",
       "      <th>35</th>\n",
       "      <td>46014.02</td>\n",
       "      <td>85047.44</td>\n",
       "      <td>205517.64</td>\n",
       "    </tr>\n",
       "    <tr>\n",
       "      <th>29</th>\n",
       "      <td>65605.48</td>\n",
       "      <td>153032.06</td>\n",
       "      <td>107138.38</td>\n",
       "    </tr>\n",
       "    <tr>\n",
       "      <th>14</th>\n",
       "      <td>119943.24</td>\n",
       "      <td>156547.42</td>\n",
       "      <td>256512.92</td>\n",
       "    </tr>\n",
       "    <tr>\n",
       "      <th>7</th>\n",
       "      <td>130298.13</td>\n",
       "      <td>145530.06</td>\n",
       "      <td>323876.68</td>\n",
       "    </tr>\n",
       "    <tr>\n",
       "      <th>25</th>\n",
       "      <td>64664.71</td>\n",
       "      <td>139553.16</td>\n",
       "      <td>137962.62</td>\n",
       "    </tr>\n",
       "    <tr>\n",
       "      <th>33</th>\n",
       "      <td>55493.95</td>\n",
       "      <td>103057.49</td>\n",
       "      <td>214634.81</td>\n",
       "    </tr>\n",
       "  </tbody>\n",
       "</table>\n",
       "</div>"
      ],
      "text/plain": [
       "          R&D  administration  marketing\n",
       "21   78389.47       153773.43  299737.29\n",
       "6   134615.46       147198.87  127716.82\n",
       "11  100671.96        91790.61  249744.55\n",
       "32   63408.86       129219.61   46085.25\n",
       "35   46014.02        85047.44  205517.64\n",
       "29   65605.48       153032.06  107138.38\n",
       "14  119943.24       156547.42  256512.92\n",
       "7   130298.13       145530.06  323876.68\n",
       "25   64664.71       139553.16  137962.62\n",
       "33   55493.95       103057.49  214634.81"
      ]
     },
     "execution_count": 31,
     "metadata": {},
     "output_type": "execute_result"
    }
   ],
   "source": [
    "X_test=testing[[\"R&D\",\"administration\",\"marketing\"]]\n",
    "X_test"
   ]
  },
  {
   "cell_type": "code",
   "execution_count": 32,
   "id": "81d37469",
   "metadata": {},
   "outputs": [
    {
     "data": {
      "text/plain": [
       "array([119134.26299916, 160168.08280522, 135000.68629365,  99727.98567582,\n",
       "        89209.75552643, 103518.91517345, 151838.20619836, 161921.39306302,\n",
       "       103383.65560014,  97442.06941241])"
      ]
     },
     "execution_count": 32,
     "metadata": {},
     "output_type": "execute_result"
    }
   ],
   "source": [
    "pred_profit=train_model.predict(X_test)\n",
    "pred_profit"
   ]
  },
  {
   "cell_type": "code",
   "execution_count": 33,
   "id": "963031ba",
   "metadata": {},
   "outputs": [
    {
     "name": "stderr",
     "output_type": "stream",
     "text": [
      "<ipython-input-33-80f0bca438c1>:1: SettingWithCopyWarning: \n",
      "A value is trying to be set on a copy of a slice from a DataFrame.\n",
      "Try using .loc[row_indexer,col_indexer] = value instead\n",
      "\n",
      "See the caveats in the documentation: https://pandas.pydata.org/pandas-docs/stable/user_guide/indexing.html#returning-a-view-versus-a-copy\n",
      "  testing[\"pred_profit\"]=pred_profit\n"
     ]
    },
    {
     "data": {
      "text/html": [
       "<div>\n",
       "<style scoped>\n",
       "    .dataframe tbody tr th:only-of-type {\n",
       "        vertical-align: middle;\n",
       "    }\n",
       "\n",
       "    .dataframe tbody tr th {\n",
       "        vertical-align: top;\n",
       "    }\n",
       "\n",
       "    .dataframe thead th {\n",
       "        text-align: right;\n",
       "    }\n",
       "</style>\n",
       "<table border=\"1\" class=\"dataframe\">\n",
       "  <thead>\n",
       "    <tr style=\"text-align: right;\">\n",
       "      <th></th>\n",
       "      <th>R&amp;D</th>\n",
       "      <th>administration</th>\n",
       "      <th>marketing</th>\n",
       "      <th>profit</th>\n",
       "      <th>pred_profit</th>\n",
       "    </tr>\n",
       "  </thead>\n",
       "  <tbody>\n",
       "    <tr>\n",
       "      <th>21</th>\n",
       "      <td>78389.47</td>\n",
       "      <td>153773.43</td>\n",
       "      <td>299737.29</td>\n",
       "      <td>111313.02</td>\n",
       "      <td>119134.262999</td>\n",
       "    </tr>\n",
       "    <tr>\n",
       "      <th>6</th>\n",
       "      <td>134615.46</td>\n",
       "      <td>147198.87</td>\n",
       "      <td>127716.82</td>\n",
       "      <td>156122.51</td>\n",
       "      <td>160168.082805</td>\n",
       "    </tr>\n",
       "    <tr>\n",
       "      <th>11</th>\n",
       "      <td>100671.96</td>\n",
       "      <td>91790.61</td>\n",
       "      <td>249744.55</td>\n",
       "      <td>144259.40</td>\n",
       "      <td>135000.686294</td>\n",
       "    </tr>\n",
       "    <tr>\n",
       "      <th>32</th>\n",
       "      <td>63408.86</td>\n",
       "      <td>129219.61</td>\n",
       "      <td>46085.25</td>\n",
       "      <td>97427.84</td>\n",
       "      <td>99727.985676</td>\n",
       "    </tr>\n",
       "    <tr>\n",
       "      <th>35</th>\n",
       "      <td>46014.02</td>\n",
       "      <td>85047.44</td>\n",
       "      <td>205517.64</td>\n",
       "      <td>96479.51</td>\n",
       "      <td>89209.755526</td>\n",
       "    </tr>\n",
       "    <tr>\n",
       "      <th>29</th>\n",
       "      <td>65605.48</td>\n",
       "      <td>153032.06</td>\n",
       "      <td>107138.38</td>\n",
       "      <td>101004.64</td>\n",
       "      <td>103518.915173</td>\n",
       "    </tr>\n",
       "    <tr>\n",
       "      <th>14</th>\n",
       "      <td>119943.24</td>\n",
       "      <td>156547.42</td>\n",
       "      <td>256512.92</td>\n",
       "      <td>132602.65</td>\n",
       "      <td>151838.206198</td>\n",
       "    </tr>\n",
       "    <tr>\n",
       "      <th>7</th>\n",
       "      <td>130298.13</td>\n",
       "      <td>145530.06</td>\n",
       "      <td>323876.68</td>\n",
       "      <td>155752.60</td>\n",
       "      <td>161921.393063</td>\n",
       "    </tr>\n",
       "    <tr>\n",
       "      <th>25</th>\n",
       "      <td>64664.71</td>\n",
       "      <td>139553.16</td>\n",
       "      <td>137962.62</td>\n",
       "      <td>107404.34</td>\n",
       "      <td>103383.655600</td>\n",
       "    </tr>\n",
       "    <tr>\n",
       "      <th>33</th>\n",
       "      <td>55493.95</td>\n",
       "      <td>103057.49</td>\n",
       "      <td>214634.81</td>\n",
       "      <td>96778.92</td>\n",
       "      <td>97442.069412</td>\n",
       "    </tr>\n",
       "  </tbody>\n",
       "</table>\n",
       "</div>"
      ],
      "text/plain": [
       "          R&D  administration  marketing     profit    pred_profit\n",
       "21   78389.47       153773.43  299737.29  111313.02  119134.262999\n",
       "6   134615.46       147198.87  127716.82  156122.51  160168.082805\n",
       "11  100671.96        91790.61  249744.55  144259.40  135000.686294\n",
       "32   63408.86       129219.61   46085.25   97427.84   99727.985676\n",
       "35   46014.02        85047.44  205517.64   96479.51   89209.755526\n",
       "29   65605.48       153032.06  107138.38  101004.64  103518.915173\n",
       "14  119943.24       156547.42  256512.92  132602.65  151838.206198\n",
       "7   130298.13       145530.06  323876.68  155752.60  161921.393063\n",
       "25   64664.71       139553.16  137962.62  107404.34  103383.655600\n",
       "33   55493.95       103057.49  214634.81   96778.92   97442.069412"
      ]
     },
     "execution_count": 33,
     "metadata": {},
     "output_type": "execute_result"
    }
   ],
   "source": [
    "testing[\"pred_profit\"]=pred_profit\n",
    "testing"
   ]
  },
  {
   "cell_type": "code",
   "execution_count": 34,
   "id": "106cb11e",
   "metadata": {},
   "outputs": [
    {
     "name": "stderr",
     "output_type": "stream",
     "text": [
      "<ipython-input-34-d631f1c84544>:1: SettingWithCopyWarning: \n",
      "A value is trying to be set on a copy of a slice from a DataFrame.\n",
      "Try using .loc[row_indexer,col_indexer] = value instead\n",
      "\n",
      "See the caveats in the documentation: https://pandas.pydata.org/pandas-docs/stable/user_guide/indexing.html#returning-a-view-versus-a-copy\n",
      "  testing[\"Error\"]=testing[\"profit\"]-testing[\"pred_profit\"]\n"
     ]
    },
    {
     "data": {
      "text/html": [
       "<div>\n",
       "<style scoped>\n",
       "    .dataframe tbody tr th:only-of-type {\n",
       "        vertical-align: middle;\n",
       "    }\n",
       "\n",
       "    .dataframe tbody tr th {\n",
       "        vertical-align: top;\n",
       "    }\n",
       "\n",
       "    .dataframe thead th {\n",
       "        text-align: right;\n",
       "    }\n",
       "</style>\n",
       "<table border=\"1\" class=\"dataframe\">\n",
       "  <thead>\n",
       "    <tr style=\"text-align: right;\">\n",
       "      <th></th>\n",
       "      <th>R&amp;D</th>\n",
       "      <th>administration</th>\n",
       "      <th>marketing</th>\n",
       "      <th>profit</th>\n",
       "      <th>pred_profit</th>\n",
       "      <th>Error</th>\n",
       "    </tr>\n",
       "  </thead>\n",
       "  <tbody>\n",
       "    <tr>\n",
       "      <th>21</th>\n",
       "      <td>78389.47</td>\n",
       "      <td>153773.43</td>\n",
       "      <td>299737.29</td>\n",
       "      <td>111313.02</td>\n",
       "      <td>119134.262999</td>\n",
       "      <td>-7821.242999</td>\n",
       "    </tr>\n",
       "    <tr>\n",
       "      <th>6</th>\n",
       "      <td>134615.46</td>\n",
       "      <td>147198.87</td>\n",
       "      <td>127716.82</td>\n",
       "      <td>156122.51</td>\n",
       "      <td>160168.082805</td>\n",
       "      <td>-4045.572805</td>\n",
       "    </tr>\n",
       "    <tr>\n",
       "      <th>11</th>\n",
       "      <td>100671.96</td>\n",
       "      <td>91790.61</td>\n",
       "      <td>249744.55</td>\n",
       "      <td>144259.40</td>\n",
       "      <td>135000.686294</td>\n",
       "      <td>9258.713706</td>\n",
       "    </tr>\n",
       "    <tr>\n",
       "      <th>32</th>\n",
       "      <td>63408.86</td>\n",
       "      <td>129219.61</td>\n",
       "      <td>46085.25</td>\n",
       "      <td>97427.84</td>\n",
       "      <td>99727.985676</td>\n",
       "      <td>-2300.145676</td>\n",
       "    </tr>\n",
       "    <tr>\n",
       "      <th>35</th>\n",
       "      <td>46014.02</td>\n",
       "      <td>85047.44</td>\n",
       "      <td>205517.64</td>\n",
       "      <td>96479.51</td>\n",
       "      <td>89209.755526</td>\n",
       "      <td>7269.754474</td>\n",
       "    </tr>\n",
       "    <tr>\n",
       "      <th>29</th>\n",
       "      <td>65605.48</td>\n",
       "      <td>153032.06</td>\n",
       "      <td>107138.38</td>\n",
       "      <td>101004.64</td>\n",
       "      <td>103518.915173</td>\n",
       "      <td>-2514.275173</td>\n",
       "    </tr>\n",
       "    <tr>\n",
       "      <th>14</th>\n",
       "      <td>119943.24</td>\n",
       "      <td>156547.42</td>\n",
       "      <td>256512.92</td>\n",
       "      <td>132602.65</td>\n",
       "      <td>151838.206198</td>\n",
       "      <td>-19235.556198</td>\n",
       "    </tr>\n",
       "    <tr>\n",
       "      <th>7</th>\n",
       "      <td>130298.13</td>\n",
       "      <td>145530.06</td>\n",
       "      <td>323876.68</td>\n",
       "      <td>155752.60</td>\n",
       "      <td>161921.393063</td>\n",
       "      <td>-6168.793063</td>\n",
       "    </tr>\n",
       "    <tr>\n",
       "      <th>25</th>\n",
       "      <td>64664.71</td>\n",
       "      <td>139553.16</td>\n",
       "      <td>137962.62</td>\n",
       "      <td>107404.34</td>\n",
       "      <td>103383.655600</td>\n",
       "      <td>4020.684400</td>\n",
       "    </tr>\n",
       "    <tr>\n",
       "      <th>33</th>\n",
       "      <td>55493.95</td>\n",
       "      <td>103057.49</td>\n",
       "      <td>214634.81</td>\n",
       "      <td>96778.92</td>\n",
       "      <td>97442.069412</td>\n",
       "      <td>-663.149412</td>\n",
       "    </tr>\n",
       "  </tbody>\n",
       "</table>\n",
       "</div>"
      ],
      "text/plain": [
       "          R&D  administration  marketing     profit    pred_profit  \\\n",
       "21   78389.47       153773.43  299737.29  111313.02  119134.262999   \n",
       "6   134615.46       147198.87  127716.82  156122.51  160168.082805   \n",
       "11  100671.96        91790.61  249744.55  144259.40  135000.686294   \n",
       "32   63408.86       129219.61   46085.25   97427.84   99727.985676   \n",
       "35   46014.02        85047.44  205517.64   96479.51   89209.755526   \n",
       "29   65605.48       153032.06  107138.38  101004.64  103518.915173   \n",
       "14  119943.24       156547.42  256512.92  132602.65  151838.206198   \n",
       "7   130298.13       145530.06  323876.68  155752.60  161921.393063   \n",
       "25   64664.71       139553.16  137962.62  107404.34  103383.655600   \n",
       "33   55493.95       103057.49  214634.81   96778.92   97442.069412   \n",
       "\n",
       "           Error  \n",
       "21  -7821.242999  \n",
       "6   -4045.572805  \n",
       "11   9258.713706  \n",
       "32  -2300.145676  \n",
       "35   7269.754474  \n",
       "29  -2514.275173  \n",
       "14 -19235.556198  \n",
       "7   -6168.793063  \n",
       "25   4020.684400  \n",
       "33   -663.149412  "
      ]
     },
     "execution_count": 34,
     "metadata": {},
     "output_type": "execute_result"
    }
   ],
   "source": [
    "testing[\"Error\"]=testing[\"profit\"]-testing[\"pred_profit\"]\n",
    "testing"
   ]
  },
  {
   "cell_type": "code",
   "execution_count": 68,
   "id": "7c58c62c",
   "metadata": {},
   "outputs": [
    {
     "data": {
      "text/plain": [
       "0.8819679466294933"
      ]
     },
     "execution_count": 68,
     "metadata": {},
     "output_type": "execute_result"
    }
   ],
   "source": [
    "mltpl_r2 = r2_score(testing['profit'],testing['pred_profit'])\n",
    "mltpl_r2"
   ]
  },
  {
   "cell_type": "code",
   "execution_count": 36,
   "id": "1d4b4564",
   "metadata": {},
   "outputs": [
    {
     "data": {
      "text/plain": [
       "<AxesSubplot:xlabel='R&D', ylabel='profit'>"
      ]
     },
     "execution_count": 36,
     "metadata": {},
     "output_type": "execute_result"
    },
    {
     "data": {
      "image/png": "[encoded data removed]",
      "text/plain": [
       "<Figure size 432x288 with 1 Axes>"
      ]
     },
     "metadata": {},
     "output_type": "display_data"
    }
   ],
   "source": [
    "sns.regplot(x=\"R&D\",y=\"profit\",data=testing)"
   ]
  },
  {
   "cell_type": "code",
   "execution_count": 37,
   "id": "f706a97d",
   "metadata": {},
   "outputs": [
    {
     "data": {
      "text/plain": [
       "<AxesSubplot:xlabel='administration', ylabel='profit'>"
      ]
     },
     "execution_count": 37,
     "metadata": {},
     "output_type": "execute_result"
    },
    {
     "data": {
      "image/png": "[encoded data removed]",
      "text/plain": [
       "<Figure size 432x288 with 1 Axes>"
      ]
     },
     "metadata": {},
     "output_type": "display_data"
    }
   ],
   "source": [
    "sns.regplot(x=\"administration\",y=\"profit\",data=testing)"
   ]
  },
  {
   "cell_type": "code",
   "execution_count": 38,
   "id": "084052d1",
   "metadata": {},
   "outputs": [
    {
     "data": {
      "text/plain": [
       "<AxesSubplot:xlabel='marketing', ylabel='profit'>"
      ]
     },
     "execution_count": 38,
     "metadata": {},
     "output_type": "execute_result"
    },
    {
     "data": {
      "image/png": "[encoded data removed]",
      "text/plain": [
       "<Figure size 432x288 with 1 Axes>"
      ]
     },
     "metadata": {},
     "output_type": "display_data"
    }
   ],
   "source": [
    "sns.regplot(x=\"marketing\",y=\"profit\",data=testing)"
   ]
  },
  {
   "cell_type": "markdown",
   "id": "b503e083",
   "metadata": {},
   "source": [
    "## Ridge Regression"
   ]
  },
  {
   "cell_type": "code",
   "execution_count": 63,
   "id": "f27f31a0",
   "metadata": {},
   "outputs": [],
   "source": [
    "rd = Ridge(0.5)"
   ]
  },
  {
   "cell_type": "code",
   "execution_count": 59,
   "id": "f7804d11",
   "metadata": {},
   "outputs": [
    {
     "name": "stdout",
     "output_type": "stream",
     "text": [
      "The model training is completed\n"
     ]
    }
   ],
   "source": [
    "train_model_1 = rd.fit(X_train,y_train)\n",
    "print(\"The model training is completed\")"
   ]
  },
  {
   "cell_type": "code",
   "execution_count": 60,
   "id": "169624c0",
   "metadata": {},
   "outputs": [
    {
     "name": "stdout",
     "output_type": "stream",
     "text": [
      "Accuracy of the training data - \n"
     ]
    },
    {
     "data": {
      "text/plain": [
       "0.9541238817717693"
      ]
     },
     "execution_count": 60,
     "metadata": {},
     "output_type": "execute_result"
    }
   ],
   "source": [
    "print(\"Accuracy of the training data - \")\n",
    "train_model_1.score(X_train,y_train)"
   ]
  },
  {
   "cell_type": "code",
   "execution_count": 61,
   "id": "a5ed8f7c",
   "metadata": {},
   "outputs": [
    {
     "data": {
      "text/plain": [
       "array([119134.26299931, 160168.08280482, 135000.68629351,  99727.98567562,\n",
       "        89209.75552649, 103518.91517338, 151838.20619823, 161921.39306292,\n",
       "       103383.65560009,  97442.06941246])"
      ]
     },
     "execution_count": 61,
     "metadata": {},
     "output_type": "execute_result"
    }
   ],
   "source": [
    "pred_1 = train_model_1.predict(X_test)\n",
    "pred_1"
   ]
  },
  {
   "cell_type": "code",
   "execution_count": 66,
   "id": "881e79cd",
   "metadata": {},
   "outputs": [
    {
     "data": {
      "text/plain": [
       "0.8819679466305154"
      ]
     },
     "execution_count": 66,
     "metadata": {},
     "output_type": "execute_result"
    }
   ],
   "source": [
    "ridg_r2 = r2_score(y_test,pred_1)\n",
    "ridg_r2"
   ]
  },
  {
   "cell_type": "code",
   "execution_count": 70,
   "id": "8f6fa7a2",
   "metadata": {},
   "outputs": [
    {
     "data": {
      "text/html": [
       "<div>\n",
       "<style scoped>\n",
       "    .dataframe tbody tr th:only-of-type {\n",
       "        vertical-align: middle;\n",
       "    }\n",
       "\n",
       "    .dataframe tbody tr th {\n",
       "        vertical-align: top;\n",
       "    }\n",
       "\n",
       "    .dataframe thead th {\n",
       "        text-align: right;\n",
       "    }\n",
       "</style>\n",
       "<table border=\"1\" class=\"dataframe\">\n",
       "  <thead>\n",
       "    <tr style=\"text-align: right;\">\n",
       "      <th></th>\n",
       "      <th>Prep_Models</th>\n",
       "      <th>Rsquared</th>\n",
       "    </tr>\n",
       "  </thead>\n",
       "  <tbody>\n",
       "    <tr>\n",
       "      <th>0</th>\n",
       "      <td>1st_Model</td>\n",
       "      <td>0.881968</td>\n",
       "    </tr>\n",
       "    <tr>\n",
       "      <th>1</th>\n",
       "      <td>2nd_Model</td>\n",
       "      <td>0.881968</td>\n",
       "    </tr>\n",
       "  </tbody>\n",
       "</table>\n",
       "</div>"
      ],
      "text/plain": [
       "  Prep_Models  Rsquared\n",
       "0   1st_Model  0.881968\n",
       "1   2nd_Model  0.881968"
      ]
     },
     "execution_count": 70,
     "metadata": {},
     "output_type": "execute_result"
    }
   ],
   "source": [
    "d2={'Prep_Models':['1st_Model','2nd_Model'],'Rsquared':[mltpl_r2,ridg_r2]}\n",
    "table=pd.DataFrame(d2)\n",
    "table"
   ]
  },
  {
   "cell_type": "code",
   "execution_count": null,
   "id": "72b312ad",
   "metadata": {},
   "outputs": [],
   "source": []
  }
 ],
 "metadata": {
  "kernelspec": {
   "display_name": "Python 3",
   "language": "python",
   "name": "python3"
  },
  "language_info": {
   "codemirror_mode": {
    "name": "ipython",
    "version": 3
   },
   "file_extension": ".py",
   "mimetype": "text/x-python",
   "name": "python",
   "nbconvert_exporter": "python",
   "pygments_lexer": "ipython3",
   "version": "3.8.8"
  }
 },
 "nbformat": 4,
 "nbformat_minor": 5
}
